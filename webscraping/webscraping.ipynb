{
 "cells": [
  {
   "cell_type": "code",
   "execution_count": 1,
   "metadata": {},
   "outputs": [],
   "source": [
    "import requests\n",
    "import re"
   ]
  },
  {
   "cell_type": "code",
   "execution_count": 2,
   "metadata": {},
   "outputs": [],
   "source": [
    "url = \"https://monicahillman.github.io/monibank/\"\n",
    "response = requests.get(url)\n",
    "html_content = response.text\n"
   ]
  },
  {
   "cell_type": "code",
   "execution_count": 3,
   "metadata": {},
   "outputs": [
    {
     "name": "stdout",
     "output_type": "stream",
     "text": [
      "('h1', 'Moni<span class=\"cabecalho__logo-final\">Bank</span>')\n",
      "('h2', 'Serviços')\n",
      "('h2', 'Mais vantagens do nosso banco:')\n",
      "('h2', 'O MoniBank')\n",
      "('h2', 'Serviços')\n",
      "('h2', 'Contato')\n",
      "('h2', 'Acesse nossas redes')\n",
      "('h2', '<span class=\"rodape__logo--negrito\">Moni</span>Bank')\n"
     ]
    }
   ],
   "source": [
    "pattern = r'<(h[1|2])[^>]*>(.*?)<\\/\\1>'\n",
    "\n",
    "headings = re.findall(pattern, html_content, re.DOTALL)\n",
    "for heading in headings:\n",
    "  print(heading)"
   ]
  }
 ],
 "metadata": {
  "kernelspec": {
   "display_name": "Python 3",
   "language": "python",
   "name": "python3"
  },
  "language_info": {
   "codemirror_mode": {
    "name": "ipython",
    "version": 3
   },
   "file_extension": ".py",
   "mimetype": "text/x-python",
   "name": "python",
   "nbconvert_exporter": "python",
   "pygments_lexer": "ipython3",
   "version": "3.12.4"
  }
 },
 "nbformat": 4,
 "nbformat_minor": 2
}
